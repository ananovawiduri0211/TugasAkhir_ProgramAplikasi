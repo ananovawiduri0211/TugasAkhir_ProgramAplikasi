{
  "nbformat": 4,
  "nbformat_minor": 0,
  "metadata": {
    "colab": {
      "provenance": []
    },
    "kernelspec": {
      "name": "python3",
      "display_name": "Python 3"
    },
    "language_info": {
      "name": "python"
    }
  },
  "cells": [
    {
      "cell_type": "code",
      "execution_count": 1,
      "metadata": {
        "colab": {
          "base_uri": "https://localhost:8080/"
        },
        "id": "jJ7cB-OrO5AM",
        "outputId": "174a8fa3-b5e6-4881-b332-af84fca16f0c"
      },
      "outputs": [
        {
          "output_type": "stream",
          "name": "stdout",
          "text": [
            "=== Menu Kopi & Bakery ===\n",
            "1. Espresso (Kopi) - Rp15000\n",
            "2. Cappuccino (Kopi) - Rp20000\n",
            "3. Latte (Kopi) - Rp22000\n",
            "4. Croissant (Bakery) - Rp18000\n",
            "5. Cinnamon Roll (Bakery) - Rp20000\n",
            "6. Banana Bread (Bakery) - Rp17000\n",
            "\n",
            "Masukkan nomor menu (atau ketik 'selesai' untuk checkout): 3\n",
            "Masukkan jumlah Latte: 2\n",
            "\n",
            "Masukkan nomor menu (atau ketik 'selesai' untuk checkout): 4\n",
            "Masukkan jumlah Croissant: 2\n",
            "\n",
            "Masukkan nomor menu (atau ketik 'selesai' untuk checkout): 6\n",
            "Masukkan jumlah Banana Bread: 1\n",
            "\n",
            "Masukkan nomor menu (atau ketik 'selesai' untuk checkout): selesai\n",
            "\n",
            "=== Ringkasan Pesanan Anda ===\n",
            "2x Latte = Rp44000\n",
            "2x Croissant = Rp36000\n",
            "1x Banana Bread = Rp17000\n",
            "\n",
            "Total yang harus dibayar: Rp97000\n"
          ]
        }
      ],
      "source": [
        "# Aplikasi Pemesanan Kopi & Bakery - Multi Order\n",
        "# Dibuat oleh Ana Nova Widuri\n",
        "\n",
        "# Dictionary menu berisi kode menu, kategori (kopi/bakery), nama item, dan harga\n",
        "menu = {\n",
        "    \"1\": {\"kategori\": \"Kopi\", \"nama\": \"Espresso\", \"harga\": 15000},\n",
        "    \"2\": {\"kategori\": \"Kopi\", \"nama\": \"Cappuccino\", \"harga\": 20000},\n",
        "    \"3\": {\"kategori\": \"Kopi\", \"nama\": \"Latte\", \"harga\": 22000},\n",
        "    \"4\": {\"kategori\": \"Bakery\", \"nama\": \"Croissant\", \"harga\": 18000},\n",
        "    \"5\": {\"kategori\": \"Bakery\", \"nama\": \"Cinnamon Roll\", \"harga\": 20000},\n",
        "    \"6\": {\"kategori\": \"Bakery\", \"nama\": \"Banana Bread\", \"harga\": 17000}\n",
        "}\n",
        "\n",
        "# Menampilkan daftar menu ke layar\n",
        "print(\"=== Menu Kopi & Bakery ===\")\n",
        "for kode, item in menu.items():\n",
        "    # Format tampilan: nomor menu, nama item, kategori, dan harga\n",
        "    print(f\"{kode}. {item['nama']} ({item['kategori']}) - Rp{item['harga']}\")\n",
        "\n",
        "# Variabel untuk menyimpan total pembayaran\n",
        "total_bayar = 0\n",
        "\n",
        "# List untuk menyimpan detail pesanan yang akan ditampilkan di akhir\n",
        "pesanan_detail = []\n",
        "\n",
        "# Perulangan utama untuk menerima banyak pesanan\n",
        "while True:\n",
        "    # Input kode menu dari user\n",
        "    kode = input(\"\\nMasukkan nomor menu (atau ketik 'selesai' untuk checkout): \")\n",
        "\n",
        "    # Jika user ingin menyelesaikan pesanan\n",
        "    if kode.lower() == \"selesai\":\n",
        "        break\n",
        "\n",
        "    # Validasi apakah kode menu tersedia\n",
        "    if kode not in menu:\n",
        "        print(\"Kode menu tidak valid.\")\n",
        "        continue\n",
        "\n",
        "    # Input jumlah pesanan dari user\n",
        "    try:\n",
        "        jumlah = int(input(f\"Masukkan jumlah {menu[kode]['nama']}: \"))\n",
        "    except ValueError:\n",
        "        # Jika input bukan angka\n",
        "        print(\"Jumlah harus berupa angka.\")\n",
        "        continue\n",
        "\n",
        "    # Ambil data item yang dipesan dari dictionary menu\n",
        "    item = menu[kode]\n",
        "    harga = item[\"harga\"]\n",
        "    nama = item[\"nama\"]\n",
        "\n",
        "    # Hitung subtotal dari pesanan item tersebut\n",
        "    subtotal = harga * jumlah\n",
        "\n",
        "    # Tambahkan subtotal ke total_bayar\n",
        "    total_bayar += subtotal\n",
        "\n",
        "    # Simpan detail pesanan ke list (untuk ditampilkan nanti)\n",
        "    pesanan_detail.append(f\"{jumlah}x {nama} = Rp{subtotal}\")\n",
        "\n",
        "# Setelah keluar dari loop, tampilkan ringkasan pesanan\n",
        "print(\"\\n=== Ringkasan Pesanan Anda ===\")\n",
        "for detail in pesanan_detail:\n",
        "    print(detail)\n",
        "\n",
        "# Tampilkan total akhir yang harus dibayar\n",
        "print(f\"\\nTotal yang harus dibayar: Rp{total_bayar}\")\n",
        "\n"
      ]
    }
  ]
}