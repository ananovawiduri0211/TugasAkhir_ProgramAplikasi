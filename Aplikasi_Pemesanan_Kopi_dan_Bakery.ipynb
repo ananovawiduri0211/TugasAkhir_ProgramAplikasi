{
  "nbformat": 4,
  "nbformat_minor": 0,
  "metadata": {
    "colab": {
      "provenance": []
    },
    "kernelspec": {
      "name": "python3",
      "display_name": "Python 3"
    },
    "language_info": {
      "name": "python"
    }
  },
  "cells": [
    {
      "cell_type": "code",
      "execution_count": 6,
      "metadata": {
        "colab": {
          "base_uri": "https://localhost:8080/"
        },
        "id": "IhBo2EDiHnc1",
        "outputId": "d5411bd8-d821-4e7f-8d65-f664a21507a9"
      },
      "outputs": [
        {
          "output_type": "stream",
          "name": "stdout",
          "text": [
            "=== Menu Kopi & Bakery ===\n",
            "1. Espresso (Kopi) - Rp15000\n",
            "2. Cappuccino (Kopi) - Rp20000\n",
            "3. Latte (Kopi) - Rp22000\n",
            "4. Croissant (Bakery) - Rp18000\n",
            "5. Cinnamon Roll (Bakery) - Rp20000\n",
            "6. Banana Bread (Bakery) - Rp17000\n",
            "\n",
            "Masukkan nomor menu (atau ketik 'selesai' untuk checkout): 3\n",
            "Masukkan jumlah Latte: 2\n",
            "\n",
            "Masukkan nomor menu (atau ketik 'selesai' untuk checkout): 4\n",
            "Masukkan jumlah Croissant: 2\n",
            "\n",
            "Masukkan nomor menu (atau ketik 'selesai' untuk checkout): 5\n",
            "Masukkan jumlah Cinnamon Roll: 1\n",
            "\n",
            "Masukkan nomor menu (atau ketik 'selesai' untuk checkout): selesai\n",
            "\n",
            "=== Ringkasan Pesanan Anda ===\n",
            "2x Latte = Rp44000\n",
            "2x Croissant = Rp36000\n",
            "1x Cinnamon Roll = Rp20000\n",
            "\n",
            "Total yang harus dibayar: Rp100000\n"
          ]
        }
      ],
      "source": [
        "# Aplikasi Pemesanan Kopi & Bakery (Multiple Order)\n",
        "\n",
        "menu = {\n",
        "    \"1\": {\"kategori\": \"Kopi\", \"nama\": \"Espresso\", \"harga\": 15000},\n",
        "    \"2\": {\"kategori\": \"Kopi\", \"nama\": \"Cappuccino\", \"harga\": 20000},\n",
        "    \"3\": {\"kategori\": \"Kopi\", \"nama\": \"Latte\", \"harga\": 22000},\n",
        "    \"4\": {\"kategori\": \"Bakery\", \"nama\": \"Croissant\", \"harga\": 18000},\n",
        "    \"5\": {\"kategori\": \"Bakery\", \"nama\": \"Cinnamon Roll\", \"harga\": 20000},\n",
        "    \"6\": {\"kategori\": \"Bakery\", \"nama\": \"Banana Bread\", \"harga\": 17000}\n",
        "}\n",
        "\n",
        "print(\"=== Menu Kopi & Bakery ===\")\n",
        "for kode, item in menu.items():\n",
        "    print(f\"{kode}. {item['nama']} ({item['kategori']}) - Rp{item['harga']}\")\n",
        "\n",
        "total_bayar = 0\n",
        "pesanan_detail = []\n",
        "\n",
        "while True:\n",
        "    kode = input(\"\\nMasukkan nomor menu (atau ketik 'selesai' untuk checkout): \")\n",
        "\n",
        "    if kode.lower() == \"selesai\":\n",
        "        break\n",
        "\n",
        "    if kode not in menu:\n",
        "        print(\"Kode menu tidak valid.\")\n",
        "        continue\n",
        "\n",
        "    try:\n",
        "        jumlah = int(input(f\"Masukkan jumlah {menu[kode]['nama']}: \"))\n",
        "    except ValueError:\n",
        "        print(\"Jumlah harus berupa angka.\")\n",
        "        continue\n",
        "\n",
        "    item = menu[kode]\n",
        "    subtotal = item[\"harga\"] * jumlah\n",
        "    total_bayar += subtotal\n",
        "    pesanan_detail.append(f\"{jumlah}x {item['nama']} = Rp{subtotal}\")\n",
        "\n",
        "print(\"\\n=== Ringkasan Pesanan Anda ===\")\n",
        "for detail in pesanan_detail:\n",
        "    print(detail)\n",
        "\n",
        "print(f\"\\nTotal yang harus dibayar: Rp{total_bayar}\")\n",
        "\n"
      ]
    }
  ]
}